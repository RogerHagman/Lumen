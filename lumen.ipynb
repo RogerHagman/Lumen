{
 "cells": [
  {
   "cell_type": "code",
   "execution_count": 2,
   "metadata": {},
   "outputs": [
    {
     "data": {
      "text/plain": [
       "[[{'success': {'/groups/0/action/on': False}},\n",
       "  {'success': {'/groups/0/action/transitiontime': 50}}]]"
      ]
     },
     "execution_count": 2,
     "metadata": {},
     "output_type": "execute_result"
    }
   ],
   "source": [
    "# from phue import Bridge\n",
    "# from huesdk import Discover, Hue\n",
    "# import time\n",
    "\n",
    "# # bridge_ip = Discover().find_hue_bridge()\n",
    "\n",
    "# # Bridge ip address\n",
    "# bridge_ip = \"192.168.0.5\"\n",
    "# Bridge().connect\n",
    "# # Connect to the Hue Bridge\n",
    "# bridge = Bridge(bridge_ip)\n",
    "# bridge.get_light_objects()\n",
    "# # Turn on all lights in group\n",
    "# time.sleep(10)\n",
    "# bridge.set_group(0, 'on', True)\n",
    "\n",
    "# xy = [0.1, 0.05] # Color coordinates\n",
    "\n",
    "# bridge.set_group(0, {\n",
    "#     'xy': xy, # Color coordinates\n",
    "#     'bri': 254, # Brightness\n",
    "#     'transitiontime': 50 # Transition time in milliseconds\n",
    "#     }) \n",
    "# time.sleep(10)\n",
    "# bridge.set_group(0, {'transitiontime': 50, 'on': False})"
   ]
  },
  {
   "cell_type": "code",
   "execution_count": null,
   "metadata": {},
   "outputs": [],
   "source": []
  }
 ],
 "metadata": {
  "kernelspec": {
   "display_name": "Python 3",
   "language": "python",
   "name": "python3"
  },
  "language_info": {
   "codemirror_mode": {
    "name": "ipython",
    "version": 3
   },
   "file_extension": ".py",
   "mimetype": "text/x-python",
   "name": "python",
   "nbconvert_exporter": "python",
   "pygments_lexer": "ipython3",
   "version": "3.11.2"
  },
  "orig_nbformat": 4,
  "vscode": {
   "interpreter": {
    "hash": "3ff123141b49d3e269b3661a34ce4932beef2f3780d5673d84a155db1cd61f7e"
   }
  }
 },
 "nbformat": 4,
 "nbformat_minor": 2
}
